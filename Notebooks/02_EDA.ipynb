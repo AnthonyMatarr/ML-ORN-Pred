{
 "cells": [
  {
   "cell_type": "markdown",
   "id": "220d6fa0",
   "metadata": {},
   "source": [
    "# Exploratory Data Analysis"
   ]
  },
  {
   "cell_type": "markdown",
   "id": "1f9ead7a",
   "metadata": {},
   "source": [
    "Import libraries/packages + cleaned data"
   ]
  },
  {
   "cell_type": "code",
   "execution_count": null,
   "id": "b6378e20",
   "metadata": {},
   "outputs": [],
   "source": [
    "import sys\n",
    "import os\n",
    "sys.path.append(os.path.abspath('../'))\n",
    "from src.feature_lists import get_feature_lists\n",
    "import pandas as pd\n",
    "import numpy as np\n",
    "import scipy.stats as stats\n",
    "import matplotlib.pyplot as plt\n",
    "import seaborn as sns\n",
    "from scipy.stats import chi2_contingency\n",
    "df = pd.read_parquet('../data/raw/Cleaned_ORN.parquet')"
   ]
  },
  {
   "cell_type": "markdown",
   "id": "851c0722",
   "metadata": {},
   "source": [
    "Find NAs"
   ]
  },
  {
   "cell_type": "code",
   "execution_count": null,
   "id": "55422738",
   "metadata": {},
   "outputs": [],
   "source": [
    "#Extract features with NA or 999 entries\n",
    "for col in df.columns:\n",
    "    num_na = df[col].isna().sum()\n",
    "    num_nines = (df[col] == 999).sum() #some use 999 to indicate blank\n",
    "    if num_na > 0:\n",
    "        print('-'*10 + col + '-'*10)\n",
    "        print(f'NA entries: {num_na}')\n",
    "print('-'*15 + 'total' + '-'*15)\n",
    "print(f'TOTAL NA entries: {df.isna().sum().sum()}')\n"
   ]
  },
  {
   "cell_type": "markdown",
   "id": "d310a190",
   "metadata": {},
   "source": [
    "Classify features by data type"
   ]
  },
  {
   "cell_type": "code",
   "execution_count": null,
   "id": "a41258c9",
   "metadata": {},
   "outputs": [],
   "source": [
    "##Imported func from src\n",
    "feature_lists = get_feature_lists()\n",
    "binary_cols = feature_lists[\"binary_cols\"]\n",
    "numerical_cols = feature_lists[\"numerical_cols\"]\n",
    "nominal_cols = feature_lists[\"nominal_cols\"]\n",
    "ordinal_cols = feature_lists[\"ordinal_cols\"]"
   ]
  },
  {
   "cell_type": "code",
   "execution_count": null,
   "id": "0c11b152",
   "metadata": {},
   "outputs": [],
   "source": [
    "for col in nominal_cols:\n",
    "    print(df[col].value_counts())"
   ]
  },
  {
   "cell_type": "markdown",
   "id": "e623c22d",
   "metadata": {},
   "source": [
    "Plot histograms and Q-Q plots for each numerical feature\n",
    "\n",
    "Note that because of missing entries (to be imputed later) in some columns, some values for the Shapiro-Wilk Test Statistic may be NA"
   ]
  },
  {
   "cell_type": "code",
   "execution_count": null,
   "id": "fc0ed305",
   "metadata": {},
   "outputs": [],
   "source": [
    "for feature in numerical_cols:\n",
    "    stat, p_val = stats.shapiro(df[feature])  \n",
    "    print(f\"Shapiro-Wilk Test Statistic: {stat:.4f}, p-value: {p_val:.4f}\")\n",
    "    plt.figure(figsize=(12, 6))\n",
    "\n",
    "    # Histogram with KDE\n",
    "    plt.subplot(1, 2, 1)\n",
    "    sns.histplot(df[feature], kde=True, bins=20, color='blue')\n",
    "    plt.title(f'Histogram of {feature}')\n",
    "    plt.xlabel(feature)\n",
    "    plt.ylabel('Count')\n",
    "\n",
    "    # Q-Q Plot\n",
    "    plt.subplot(1, 2, 2)\n",
    "    stats.probplot(df[feature], dist=\"norm\", plot=plt)\n",
    "    plt.title(f'Q-Q Plot of {feature}')\n",
    "\n",
    "    # Adjust layout and display\n",
    "    plt.tight_layout()\n",
    "    plt.show()\n"
   ]
  },
  {
   "cell_type": "markdown",
   "id": "37047465",
   "metadata": {},
   "source": [
    "Get numerical-numerical correlations"
   ]
  },
  {
   "cell_type": "code",
   "execution_count": null,
   "id": "385e9ce7",
   "metadata": {},
   "outputs": [],
   "source": [
    "num_df = df[numerical_cols]\n",
    "correlation_matrix = num_df.corr(method = 'spearman')\n",
    "#Values > 0.7 considered HIGH\n",
    "\n",
    "plt.figure(figsize=(8, 6))\n",
    "sns.heatmap(correlation_matrix, annot=True, cmap='coolwarm')\n",
    "plt.title(\"Correlation Matrix\")\n",
    "plt.show()"
   ]
  },
  {
   "cell_type": "markdown",
   "id": "82c47818",
   "metadata": {},
   "source": [
    "Get categorical-categorical correlation (including ordinal)"
   ]
  },
  {
   "cell_type": "code",
   "execution_count": null,
   "id": "1dca50aa",
   "metadata": {},
   "outputs": [],
   "source": [
    "# Function to calculate Cramér's V with bias correction\n",
    "#Code adopted from:\n",
    "# https://github.com/manindersingh120996/chi2_and_CrammerV_Corelation/blob/main/CrammerrV_correlation.py\n",
    "def cramerV(label, x):\n",
    "    confusion_matrix = pd.crosstab(label, x)\n",
    "    chi2 = chi2_contingency(confusion_matrix)[0]\n",
    "    n = confusion_matrix.sum().sum()\n",
    "    r, k = confusion_matrix.shape\n",
    "    phi2 = chi2 / n\n",
    "    phi2corr = max(0, phi2 - ((k - 1) * (r - 1)) / (n - 1))\n",
    "    rcorr = r - ((r - 1) ** 2) / (n - 1)\n",
    "    kcorr = k - ((k - 1) ** 2) / (n - 1)\n",
    "    if min((kcorr - 1), (rcorr - 1)) == 0:\n",
    "        v = 0\n",
    "    else:\n",
    "        v = np.sqrt(phi2corr / min((kcorr - 1), (rcorr - 1)))\n",
    "    return v\n",
    "\n",
    "def create_cramer_matrix(df, columns_of_interest):\n",
    "    cramer_matrix = pd.DataFrame(index=columns_of_interest, columns=columns_of_interest)\n",
    "    for col1 in columns_of_interest:\n",
    "        for col2 in columns_of_interest:\n",
    "            if col1 == col2:\n",
    "                cramer_matrix.loc[col1, col2] = 1.0  # Perfect correlation with itself\n",
    "            else:\n",
    "                cramer_matrix.loc[col1, col2] = cramerV(df[col1], df[col2])\n",
    "    return cramer_matrix.astype(float)\n",
    "    \n",
    "#Get correlation amongst all categorical vars\n",
    "cat_cols = binary_cols + nominal_cols + ordinal_cols  \n",
    "cramer_matrix = create_cramer_matrix(df, cat_cols)\n",
    "#Plot matrix\n",
    "plt.figure(figsize=(20, 8))\n",
    "sns.heatmap(cramer_matrix, annot=True, fmt='.2f', cmap='coolwarm')\n",
    "plt.title(\"Cramér's V Correlation Matrix\")\n",
    "plt.show()"
   ]
  },
  {
   "cell_type": "markdown",
   "id": "0177a718",
   "metadata": {},
   "source": [
    "Get categorical-numerical correlation\n",
    "\n",
    "Note that length, ischemic time, and ALB may have NA values due to missing data"
   ]
  },
  {
   "cell_type": "code",
   "execution_count": null,
   "id": "dcfe4568",
   "metadata": {},
   "outputs": [],
   "source": [
    "def correlation_ratio(categories, values):\n",
    "    categories = np.array(categories)\n",
    "    values = np.array(values)\n",
    "    mean_total = values.mean()\n",
    "    numerator = sum([len(values[categories == cat]) * ((values[categories == cat].mean() - mean_total) ** 2) for cat in np.unique(categories)])\n",
    "    denominator = sum((values - mean_total) ** 2)\n",
    "    return numerator / denominator\n",
    "\n",
    "corr_matrix = pd.DataFrame(index=cat_cols, columns=numerical_cols)\n",
    "\n",
    "for cat in cat_cols:\n",
    "    for num in numerical_cols:\n",
    "        corr_matrix.loc[cat, num] = correlation_ratio(df[cat], df[num])\n",
    "corr_matrix = corr_matrix.astype(float)\n",
    "\n",
    "\n",
    "plt.figure(figsize=(len(numerical_cols)*1.5, len(cat_cols)*0.7))\n",
    "sns.heatmap(corr_matrix, annot=True, fmt=\".2f\", cmap=\"YlOrRd\",\n",
    "            cbar_kws={'label': 'Correlation Ratio (η²)'})\n",
    "plt.title('Correlation Ratio Heatmap (Categorical vs Numerical)')\n",
    "plt.xlabel('Numerical Columns')\n",
    "plt.ylabel('Categorical Columns')\n",
    "plt.tight_layout()\n",
    "plt.show()\n"
   ]
  }
 ],
 "metadata": {
  "kernelspec": {
   "display_name": "orn_env",
   "language": "python",
   "name": "python3"
  },
  "language_info": {
   "codemirror_mode": {
    "name": "ipython",
    "version": 3
   },
   "file_extension": ".py",
   "mimetype": "text/x-python",
   "name": "python",
   "nbconvert_exporter": "python",
   "pygments_lexer": "ipython3",
   "version": "3.11.13"
  }
 },
 "nbformat": 4,
 "nbformat_minor": 5
}
