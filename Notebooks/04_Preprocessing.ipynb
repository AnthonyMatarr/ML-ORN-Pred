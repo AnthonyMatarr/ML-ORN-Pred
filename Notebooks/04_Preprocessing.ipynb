{
 "cells": [
  {
   "cell_type": "markdown",
   "id": "a502b1f8",
   "metadata": {},
   "source": [
    "# Data Pre-processing (pipeline)"
   ]
  },
  {
   "cell_type": "markdown",
   "id": "3309f655",
   "metadata": {},
   "source": [
    "Import libraries/packages + split data"
   ]
  },
  {
   "cell_type": "code",
   "execution_count": 1,
   "id": "00cf0c8f",
   "metadata": {},
   "outputs": [],
   "source": [
    "import sys\n",
    "import os\n",
    "sys.path.append(os.path.abspath('../'))\n",
    "from src.custom_transformers import remove_prefix\n",
    "from src.feature_lists import get_feature_lists\n",
    "import pandas as pd\n",
    "from sklearn.compose import ColumnTransformer\n",
    "from sklearn.preprocessing import OneHotEncoder, MinMaxScaler, FunctionTransformer\n",
    "from sklearn.pipeline import Pipeline\n",
    "from sklearn.experimental import enable_iterative_imputer\n",
    "from sklearn.impute import IterativeImputer\n",
    "import joblib\n",
    "from src.config import SEED\n",
    "raw_X_train, raw_y_train = pd.read_parquet('../data/raw/split/Raw_X_train.parquet'), pd.read_excel('../data/raw/split/Raw_y_train.xlsx', index_col=0)\n",
    "raw_X_test, raw_y_test =  pd.read_parquet('../data/raw/split/Raw_X_test.parquet'), pd.read_excel('../data/raw/split/Raw_y_test.xlsx', index_col=0)"
   ]
  },
  {
   "cell_type": "markdown",
   "id": "580e0e14",
   "metadata": {},
   "source": [
    "Classify features by data type"
   ]
  },
  {
   "cell_type": "code",
   "execution_count": null,
   "id": "e93e8b54",
   "metadata": {},
   "outputs": [],
   "source": [
    "##Imported func from src\n",
    "feature_lists = get_feature_lists()\n",
    "binary_cols = feature_lists[\"binary_cols\"]\n",
    "numerical_cols = feature_lists[\"numerical_cols\"]\n",
    "nominal_cols = feature_lists[\"nominal_cols\"]\n",
    "ordinal_cols = feature_lists[\"ordinal_cols\"]"
   ]
  },
  {
   "cell_type": "code",
   "execution_count": null,
   "id": "6608f510",
   "metadata": {},
   "outputs": [],
   "source": [
    "raw_X_train[nominal_cols] = raw_X_train[nominal_cols].astype(float)\n",
    "raw_X_test[nominal_cols] = raw_X_test[nominal_cols].astype(float)"
   ]
  },
  {
   "cell_type": "code",
   "execution_count": null,
   "id": "52eb53ed",
   "metadata": {},
   "outputs": [],
   "source": [
    "num_pipeline = Pipeline([\n",
    "    ('imputer', IterativeImputer(random_state=SEED, sample_posterior=True)),\n",
    "    ('scaler', MinMaxScaler())\n",
    "])\n",
    "\n",
    "###ML Model Pipeline###\n",
    "ml_pipeline = Pipeline([\n",
    "    ('preprocessor', ColumnTransformer([\n",
    "        ('num', num_pipeline, numerical_cols),\n",
    "        ('cat', OneHotEncoder(sparse_output=False), nominal_cols) #drop one hot?\n",
    "    ], remainder='passthrough')),\n",
    "    ('prefix_remover', FunctionTransformer(remove_prefix, validate=False))\n",
    "])\n",
    "ml_pipeline.set_output(transform=\"pandas\")\n",
    "\n",
    "### Nomogram Pipeline ###\n",
    "nomo_pipeline = Pipeline([\n",
    "    ('preprocessor', ColumnTransformer([\n",
    "        ('num', IterativeImputer(random_state=SEED, sample_posterior=True), numerical_cols),\n",
    "        ('cat', OneHotEncoder(sparse_output=False), nominal_cols),\n",
    "    ], remainder='passthrough')),\n",
    "    ('prefix_remover', FunctionTransformer(remove_prefix, validate = False))\n",
    "])\n",
    "nomo_pipeline.set_output(transform=\"pandas\")"
   ]
  },
  {
   "cell_type": "code",
   "execution_count": null,
   "id": "8c013cf8",
   "metadata": {},
   "outputs": [],
   "source": [
    "###Fit on train data and transform both training and testing\n",
    "ml_train_transformed = ml_pipeline.fit_transform(raw_X_train)\n",
    "ml_test_transformed = ml_pipeline.transform(raw_X_test)\n",
    "\n",
    "nomo_train_transformed = nomo_pipeline.fit_transform(raw_X_train)\n",
    "nomo_test_transformed = nomo_pipeline.transform(raw_X_test)\n",
    "\n",
    "\n",
    "#Export scaled/encoded dfs to Excel\n",
    "ml_train_transformed.to_parquet('../data/processed/ml_train_transformed.parquet')\n",
    "ml_test_transformed.to_parquet('../data/processed/ml_test_transformed.parquet')\n",
    "\n",
    "nomo_train_transformed.to_parquet('../data/processed/nomo_train_transformed.parquet')\n",
    "nomo_test_transformed.to_parquet('../data/processed/nomo_test_transformed.parquet')\n",
    "\n",
    "#Save pipeline for future use\n",
    "joblib.dump(ml_pipeline, '../data/processed/ml_preprocessing_pipeline.pkl')\n",
    "joblib.dump(nomo_pipeline, '../data/processed/nomo_preprocessing_pipeline.pkl')"
   ]
  }
 ],
 "metadata": {
  "kernelspec": {
   "display_name": "orn_env",
   "language": "python",
   "name": "python3"
  },
  "language_info": {
   "codemirror_mode": {
    "name": "ipython",
    "version": 3
   },
   "file_extension": ".py",
   "mimetype": "text/x-python",
   "name": "python",
   "nbconvert_exporter": "python",
   "pygments_lexer": "ipython3",
   "version": "3.11.13"
  }
 },
 "nbformat": 4,
 "nbformat_minor": 5
}
