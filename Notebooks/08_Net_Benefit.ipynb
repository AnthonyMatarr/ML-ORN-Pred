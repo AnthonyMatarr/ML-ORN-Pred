{
 "cells": [
  {
   "cell_type": "markdown",
   "id": "2befb1fe",
   "metadata": {},
   "source": [
    "# Net Benefit (Decision Curve Analysis)"
   ]
  },
  {
   "cell_type": "markdown",
   "id": "06c2188a",
   "metadata": {},
   "source": [
    "Import Data + Models + Libraries/Packages"
   ]
  },
  {
   "cell_type": "code",
   "execution_count": null,
   "id": "736d3191",
   "metadata": {},
   "outputs": [],
   "source": [
    "import sys\n",
    "import os\n",
    "sys.path.append(os.path.abspath('../'))\n",
    "from src.build_dnn_model import build_nn_model\n",
    "import matplotlib.pyplot as plt\n",
    "from statkit.decision import NetBenefitDisplay\n",
    "import pandas as pd\n",
    "import joblib\n",
    "\n",
    "\n",
    "## Data\n",
    "y_test = (pd.read_excel('../data/raw/split/Raw_y_test.xlsx'))['ORN']\n",
    "ml_X_test = pd.read_parquet('../data/processed/ml_test_transformed.parquet')\n",
    "nomo_X_test = pd.read_parquet('../data/processed/nomo_test_transformed.parquet')\n",
    "\n",
    "## Models\n",
    "lightgbm_clf = joblib.load('../models/LightGBM.joblib')\n",
    "svc_clf = joblib.load('../models/SVC.joblib')\n",
    "knn_clf = joblib.load('../models/KNN.joblib')\n",
    "dnn_clf = joblib.load('../models/DNN.joblib')\n",
    "stack_clf = joblib.load('../models/stack.joblib')\n",
    "nomo_clf = joblib.load('../models/NLR.joblib')"
   ]
  },
  {
   "cell_type": "markdown",
   "id": "78496900",
   "metadata": {},
   "source": [
    "Construct plot"
   ]
  },
  {
   "cell_type": "code",
   "execution_count": null,
   "id": "ad6b19e9",
   "metadata": {},
   "outputs": [],
   "source": [
    "# Define models, names, and colors\n",
    "models = [stack_clf, dnn_clf, knn_clf, lightgbm_clf, svc_clf, nomo_clf]\n",
    "model_names = ['Stack',\n",
    "               'DNN',\n",
    "               'KNN',\n",
    "               'LightGBM',\n",
    "               'SVC',\n",
    "               'Nomogram (LR)']\n",
    "\n",
    "color_list = [\n",
    "\"tab:blue\", \"tab:orange\", \"tab:green\", \"tab:purple\", \"tab:red\",\n",
    "\"tab:olive\", \"tab:pink\", \"tab:gray\", \"tab:olive\", \"tab:cyan\"\n",
    "]\n",
    "plt.figure(figsize=(10, 8))\n",
    "ax = plt.gca()\n",
    "\n",
    "for model, name, color in zip(models, model_names, color_list):\n",
    "    if name == \"Nomogram\":\n",
    "        y_pred_proba = model.predict_proba(nomo_X_test)[:,1]\n",
    "    else:\n",
    "        y_pred_proba = model.predict_proba(ml_X_test)[:,1]\n",
    "    NetBenefitDisplay.from_predictions(\n",
    "        y_test, \n",
    "        y_pred_proba, \n",
    "        name=name,\n",
    "        ax=ax,\n",
    "    )\n",
    "\n",
    "lines = [line for line in ax.get_lines() if line.get_label() in model_names]\n",
    "for line, color in zip(lines, color_list):\n",
    "    line.set_color(color)\n",
    "\n",
    "\n",
    "# Get all handles and labels\n",
    "handles, labels = ax.get_legend_handles_labels()\n",
    "by_label = dict(zip(labels, handles))  # Remove duplicates\n",
    "\n",
    "# # Separate baselines from models\n",
    "baseline_labels = [\"Always act\", \"Never act\", \"Oracle\"]\n",
    "model_labels = [name for name in model_names if name in by_label]\n",
    "\n",
    "# # Models first, then baselines\n",
    "ordered_labels = model_labels + baseline_labels\n",
    "\n",
    "# # Create ordered handles and labels\n",
    "ordered_handles = [by_label[label] for label in ordered_labels if label in by_label]\n",
    "final_labels = [label for label in ordered_labels if label in by_label]\n",
    "\n",
    "ax.legend(ordered_handles, final_labels, loc=\"upper right\")\n",
    "\n",
    "plt.title(\"Decision Curve Analysis: Model Comparison\")\n",
    "plt.ylim(-0.15, 0.27)\n",
    "\n",
    "\n",
    "plt.savefig('../results/figures/DCA.pdf', bbox_inches='tight')\n",
    "plt.show()\n"
   ]
  }
 ],
 "metadata": {
  "kernelspec": {
   "display_name": "orn_env",
   "language": "python",
   "name": "python3"
  },
  "language_info": {
   "codemirror_mode": {
    "name": "ipython",
    "version": 3
   },
   "file_extension": ".py",
   "mimetype": "text/x-python",
   "name": "python",
   "nbconvert_exporter": "python",
   "pygments_lexer": "ipython3",
   "version": "3.11.13"
  }
 },
 "nbformat": 4,
 "nbformat_minor": 5
}
