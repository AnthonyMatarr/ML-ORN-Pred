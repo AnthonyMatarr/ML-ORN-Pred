{
 "cells": [
  {
   "cell_type": "markdown",
   "id": "04ec2131",
   "metadata": {},
   "source": [
    "# Data Cleaning"
   ]
  },
  {
   "cell_type": "markdown",
   "id": "f18e53b5",
   "metadata": {},
   "source": [
    "Import libraries/packages + raw data"
   ]
  },
  {
   "cell_type": "code",
   "execution_count": 1,
   "id": "f89079ae",
   "metadata": {},
   "outputs": [],
   "source": [
    "import pandas as pd\n",
    "import numpy as np\n",
    "\n",
    "#Import Data\n",
    "df = pd.read_excel('../data/raw/ORN_Data.xlsx')"
   ]
  },
  {
   "cell_type": "markdown",
   "id": "767e49d1",
   "metadata": {},
   "source": [
    "Import, subset, and rename columns --> only include patients with Radiation Therapy"
   ]
  },
  {
   "cell_type": "code",
   "execution_count": null,
   "id": "a3990721",
   "metadata": {},
   "outputs": [],
   "source": [
    "#Subset to only include relevant rows\n",
    "df= df[:329]\n",
    "## Rename for interpretability\n",
    "df = df.rename(columns={'ORN': 'ORN_type', 'ORN ': 'ORN'})\n",
    "##Subset relevant columns\n",
    "relevant_cols = [\n",
    "            #Patient Characteristics\n",
    "             'AGE',\n",
    "             'GENDER (0=female, 1=male)',\n",
    "             'BMI',\n",
    "             'ASA, 0= ASA I or II, 1=ASA III',\n",
    "             'DM(0=no, 1=yes)',\n",
    "             'PRERT( pre-op RT)',\n",
    "             'PRECT(pre-op chemotherapy)', \n",
    "             'PRIOREX( prior opearion at same side, 0=no, 1=yes)',\n",
    "            #Tumor Characteristics\n",
    "             'SECONDPRIMARY(0=no, 1=yes)',\n",
    "             'RECUR(0=primary, 1=recurrence)',\n",
    "             'SITE(1= mouth floor,  2=buccal, 3=retromolar, 4=gum, 5=tongue , 6=lip)',\n",
    "             'T(0=T1or2, 1=T3or4)',\n",
    "             'N(0= (-), 1=(+))',\n",
    "             'OVERALLSTAGE(1= stage1, 2=stage2/3, 3=stage4)',\n",
    "             'DEFECTTYPE(0= intraoral only, 1=composite defect)',\n",
    "             'JEWER(Jewer\\'s classification, 0=C, 1=L, 3=LC, 5=LCL)',\n",
    "            #Peri-op\n",
    "             'OPTIME',\n",
    "             'LENGTH(defect length)',\n",
    "             'OSTEOTOMY(no. of osteostomy of the fibula bone)',\n",
    "             'PLATE(0=mini plate 1=reconstruction plate 2=preformed plate)',\n",
    "             'FLAP(0=OSC flap, 1=chimeric flap with muscle)',\n",
    "             'BT(intra-op blood transfusion, 0=no, 1=yes)',\n",
    "             'ISCHEMICTIME',\n",
    "            ## Post-op\n",
    "             'ADMISSION( hospitalization days)',\n",
    "             'HGB(post-op hemoglobin)',\n",
    "             'ALB(post-op albumin)',\n",
    "             'REOPEN',\n",
    "             'WOUNDINF(post-op wound infection)',\n",
    "             'EXPOSURE( plate exposure)',\n",
    "             'EXPOSUREFU( time from op to plate exposure)',\n",
    "             'MEDEXPOSURE( treat plate exposure with medication only)',\n",
    "             'TXEXPOSURE(treatments other than medication, 1=plate removal, 2=another flap)', \n",
    "             'POSTRT(post-op RT)',        \n",
    "             'POSTCT(post-op chemotherapy)', \n",
    "             'ORN'\n",
    "             ]\n",
    "df_sub = df[relevant_cols]\n",
    "\n",
    "##Rename columns for readability\n",
    "df_renamed = df_sub.rename(columns = {\n",
    "    'REOPEN': 'REOPEN',\n",
    "    'ADMISSION( hospitalization days)': \"ADMISSION\",\n",
    "    'MEDEXPOSURE( treat plate exposure with medication only)': 'MEDEXPOSURE',\n",
    "    'TXEXPOSURE(treatments other than medication, 1=plate removal, 2=another flap)': \"TXEXPOSURE\",\n",
    "    'PRIOREX( prior opearion at same side, 0=no, 1=yes)': 'PRIOREX',\n",
    "    'EXPOSUREFU( time from op to plate exposure)': 'EXPOSUREFU',\n",
    "    'GENDER (0=female, 1=male)': 'GENDER',\n",
    "    'ASA, 0= ASA I or II, 1=ASA III': 'ASA',\n",
    "    'DM(0=no, 1=yes)': 'DM', \n",
    "    'RECUR(0=primary, 1=recurrence)': 'RECUR', \n",
    "    'SECONDPRIMARY(0=no, 1=yes)': 'SP',  \n",
    "    'SITE(1= mouth floor,  2=buccal, 3=retromolar, 4=gum, 5=tongue , 6=lip)': 'SITE', \n",
    "    'T(0=T1or2, 1=T3or4)': 'T', \n",
    "    'N(0= (-), 1=(+))': 'N',\n",
    "    'OVERALLSTAGE(1= stage1, 2=stage2/3, 3=stage4)': 'STAGE',\n",
    "    'DEFECTTYPE(0= intraoral only, 1=composite defect)': 'DEFECT_TYPE',\n",
    "    'JEWER(Jewer\\'s classification, 0=C, 1=L, 3=LC, 5=LCL)': 'JEWER',\n",
    "    'LENGTH(defect length)': 'LENGTH',\n",
    "    'OSTEOTOMY(no. of osteostomy of the fibula bone)': 'OSTEOTOMY',\n",
    "    'PLATE(0=mini plate 1=reconstruction plate 2=preformed plate)': 'PLATE',\n",
    "    'FLAP(0=OSC flap, 1=chimeric flap with muscle)': 'FLAP',\n",
    "    'HGB(post-op hemoglobin)': 'HGB',\n",
    "    'ALB(post-op albumin)': 'ALB',\n",
    "    'BT(intra-op blood transfusion, 0=no, 1=yes)': 'BT',\n",
    "    'PRERT( pre-op RT)': 'PRERT', \n",
    "    'POSTRT(post-op RT)': 'POSTRT', \n",
    "    'PRECT(pre-op chemotherapy)':'PRECT',\n",
    "    'POSTCT(post-op chemotherapy)': 'POSTCT', \n",
    "    'WOUNDINF(post-op wound infection)': 'WOUNDINF',\n",
    "    'EXPOSURE( plate exposure)':'EXPOSURE',\n",
    "})\n",
    "\n",
    "# Subset only RT patients\n",
    "df_renamed = df_renamed[(df_renamed['POSTRT'] == 1) | (df_renamed['PRERT'] == 1)]\n",
    "##Replace 999 with NA\n",
    "df_renamed = df_renamed.replace(999, np.nan)\n",
    "## Final shape\n",
    "print(f'Cleaned Shape: {df_renamed.shape}')"
   ]
  },
  {
   "cell_type": "markdown",
   "id": "47f2a0fc",
   "metadata": {},
   "source": [
    "Simplify features"
   ]
  },
  {
   "cell_type": "code",
   "execution_count": null,
   "id": "57bef9b5",
   "metadata": {},
   "outputs": [],
   "source": [
    "#Change the single '2' entry for exposure to a '1' for simplicity\n",
    "df_renamed['EXPOSURE'] = df_renamed['EXPOSURE'].replace({2: 1})\n",
    "#Change two '3' entries in OSTEOTOMY to '2' for simplicity\n",
    "df_renamed['OSTEOTOMY'] = df_renamed['OSTEOTOMY'].replace({3.0: 2.0})\n",
    "# Rename ASA entries to make binary nature more clear (2-->0, 3-->1)\n",
    "df_renamed['ASA'] = df_renamed['ASA'].replace({2: 0, 3: 1})\n",
    "# Combine 2 'JEWER 0' (C) with 71 'JEWER 3' (LC) b/c of low frequency\n",
    "df_renamed['JEWER'] = df_renamed['JEWER'].replace({0.0: 3.0})"
   ]
  },
  {
   "cell_type": "markdown",
   "id": "9ccc81f7",
   "metadata": {},
   "source": [
    "Export"
   ]
  },
  {
   "cell_type": "code",
   "execution_count": null,
   "id": "220a8685",
   "metadata": {},
   "outputs": [],
   "source": [
    "df_renamed.to_parquet('../data/raw/Cleaned_ORN.parquet')"
   ]
  }
 ],
 "metadata": {
  "kernelspec": {
   "display_name": "orn_env",
   "language": "python",
   "name": "python3"
  },
  "language_info": {
   "codemirror_mode": {
    "name": "ipython",
    "version": 3
   },
   "file_extension": ".py",
   "mimetype": "text/x-python",
   "name": "python",
   "nbconvert_exporter": "python",
   "pygments_lexer": "ipython3",
   "version": "3.11.13"
  }
 },
 "nbformat": 4,
 "nbformat_minor": 5
}
