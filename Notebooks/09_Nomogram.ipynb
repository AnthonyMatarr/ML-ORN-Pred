{
 "cells": [
  {
   "cell_type": "markdown",
   "id": "afc460ff",
   "metadata": {},
   "source": [
    "# Nomogram Construction"
   ]
  },
  {
   "cell_type": "markdown",
   "id": "f84fc603",
   "metadata": {},
   "source": [
    "Import Data + Models + Libraries/Packages"
   ]
  },
  {
   "cell_type": "code",
   "execution_count": 1,
   "id": "4006f813",
   "metadata": {},
   "outputs": [],
   "source": [
    "import sys\n",
    "import os\n",
    "sys.path.append(os.path.abspath('../'))\n",
    "from src.feature_lists import get_feature_lists\n",
    "from simpleNomo import nomogram\n",
    "import pandas as pd\n",
    "import joblib\n",
    "from src.config import SEED\n",
    "## Data\n",
    "y_train = (pd.read_excel('../data/raw/split/Raw_y_train.xlsx'))['ORN']\n",
    "nomo_X_train = pd.read_parquet('../data/processed/nomo_train_transformed.parquet')\n",
    "\n",
    "## Model\n",
    "nomo_clf = joblib.load('../models/NLR.joblib')"
   ]
  },
  {
   "cell_type": "markdown",
   "id": "7a01d0e9",
   "metadata": {},
   "source": [
    "Initialize feature lists"
   ]
  },
  {
   "cell_type": "code",
   "execution_count": null,
   "id": "2b601de9",
   "metadata": {},
   "outputs": [],
   "source": [
    "##Imported func from src\n",
    "feature_lists = get_feature_lists()\n",
    "binary_cols = feature_lists[\"binary_cols\"]\n",
    "numerical_cols = feature_lists[\"numerical_cols\"]\n",
    "nominal_cols = feature_lists[\"nominal_cols\"]\n",
    "ordinal_cols = feature_lists[\"ordinal_cols\"]"
   ]
  },
  {
   "cell_type": "code",
   "execution_count": null,
   "id": "80299177",
   "metadata": {},
   "outputs": [],
   "source": [
    "##Get coef and intercept from log model\n",
    "coefs = nomo_clf.coef_[0]\n",
    "intercept = nomo_clf.intercept_[0]\n",
    "##Create features and coef columns\n",
    "\n",
    "feature_names = nomo_X_train.columns.to_list()\n",
    "features = ['intercept'] + ['threshold'] + feature_names\n",
    "coefs = [intercept] + [0.502] + list(coefs)\n",
    "\n",
    "##Get continuous, nominal, and ordinal columns\n",
    "df_size = nomo_X_train.shape[1]\n",
    "cat_cols = [0] * df_size ## 0 = numerical\n",
    "for i in range(0,df_size):\n",
    "    col = nomo_X_train.columns[i]\n",
    "    counts = nomo_X_train[col].value_counts()\n",
    "    if col in nominal_cols or col in binary_cols: #1 = #Nominal\n",
    "        cat_cols[i] = 1\n",
    "    elif col in ordinal_cols: ##2 = Ordinal\n",
    "        cat_cols[i] = 2\n",
    "\n",
    "##Get mins, maxs, coefs, types, positions columns\n",
    "mins = [''] + [''] +[nomo_X_train[feature].min() for feature in feature_names]\n",
    "maxs = [''] + [''] +[nomo_X_train[feature].max() for feature in feature_names]\n",
    "coefs = [1e-10 if i == 0 else i for i in coefs] #Make 0 entries a very small number\n",
    "types = [''] +  [''] + ['numerical' if i == 0 else 'nominal' if i ==1 else 'ordinal' for i in cat_cols]\n",
    "positions = [''] * (df_size+2)\n",
    "\n",
    "##Create table\n",
    "nomo_table = pd.DataFrame({\n",
    "    'feature': features,\n",
    "    'coef': coefs,\n",
    "    'min': mins,\n",
    "    'max': maxs,\n",
    "    'type': types,\n",
    "    'position': positions\n",
    "})\n",
    "\n",
    "##Export and import table\n",
    "path_to_nomo_table = '../results/tables/Nomo_Table.xlsx'\n",
    "nomo_table.to_excel(path_to_nomo_table, index = False)\n",
    "\n",
    "##Create nomogram\n",
    "results = nomogram(path = path_to_nomo_table, result_title = 'ORN Risk', \n",
    "                   fig_width=30, single_height=.7, dpi = 500,\n",
    "                   ax_para={'linewidth': 2, 'c': 'black', 'linestyle': '--'},\n",
    "                   xtick_para = {'fontsize': 13}\n",
    "                   )\n",
    "results.savefig('../results/figures/Nomogram.pdf', bbox_inches='tight', dpi=500)"
   ]
  }
 ],
 "metadata": {
  "kernelspec": {
   "display_name": "orn_env",
   "language": "python",
   "name": "python3"
  },
  "language_info": {
   "codemirror_mode": {
    "name": "ipython",
    "version": 3
   },
   "file_extension": ".py",
   "mimetype": "text/x-python",
   "name": "python",
   "nbconvert_exporter": "python",
   "pygments_lexer": "ipython3",
   "version": "3.11.13"
  }
 },
 "nbformat": 4,
 "nbformat_minor": 5
}
